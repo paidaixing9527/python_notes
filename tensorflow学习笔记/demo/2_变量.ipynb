{
 "cells": [
  {
   "cell_type": "code",
   "execution_count": 1,
   "metadata": {},
   "outputs": [],
   "source": [
    "import tensorflow as tf"
   ]
  },
  {
   "cell_type": "code",
   "execution_count": 4,
   "metadata": {},
   "outputs": [
    {
     "name": "stdout",
     "output_type": "stream",
     "text": [
      "[-2 -1]\n",
      "[4 5]\n"
     ]
    }
   ],
   "source": [
    "# 定义一个变量op\n",
    "x = tf.Variable([1,2])\n",
    "# 定义一个常量op\n",
    "a = tf.constant([3,3])\n",
    "# 增加一个减法op\n",
    "sub = tf.subtract(x,a)\n",
    "# 增加一个加法op\n",
    "add = tf.add(x,a)\n",
    "\n",
    "# 初始化所有的变量\n",
    "init = tf.global_variables_initializer()\n",
    "\n",
    "# 定义一个会话\n",
    "with tf.Session() as sess:\n",
    "    sess.run(init)  # 进行变量初始化操作\n",
    "    print(sess.run(sub))\n",
    "    print(sess.run(add))"
   ]
  },
  {
   "cell_type": "code",
   "execution_count": 5,
   "metadata": {},
   "outputs": [
    {
     "name": "stdout",
     "output_type": "stream",
     "text": [
      "0\n",
      "1\n",
      "2\n",
      "3\n",
      "4\n",
      "5\n",
      "6\n",
      "7\n",
      "8\n",
      "9\n",
      "10\n"
     ]
    }
   ],
   "source": [
    "# 创建一个变量，初始化为 0\n",
    "state = tf.Variable(0,name='counter')\n",
    "# 创建一个op,作用是使 state 加 1\n",
    "new_value = tf.add(state, 1)\n",
    "# 赋值op\n",
    "update = tf.assign(state,new_value) # 将 new_value 赋值给 state\n",
    "# 初始化\n",
    "init = tf.global_variables_initializer()\n",
    "# 定义一个会话\n",
    "with tf.Session() as sess:\n",
    "    # 先初始化变量\n",
    "    sess.run(init)\n",
    "    print(sess.run(state))\n",
    "    for _ in range(10):\n",
    "        sess.run(update)\n",
    "        print(sess.run(state))"
   ]
  },
  {
   "cell_type": "code",
   "execution_count": null,
   "metadata": {},
   "outputs": [],
   "source": []
  }
 ],
 "metadata": {
  "kernelspec": {
   "display_name": "Python 3",
   "language": "python",
   "name": "python3"
  },
  "language_info": {
   "codemirror_mode": {
    "name": "ipython",
    "version": 3
   },
   "file_extension": ".py",
   "mimetype": "text/x-python",
   "name": "python",
   "nbconvert_exporter": "python",
   "pygments_lexer": "ipython3",
   "version": "3.6.5"
  }
 },
 "nbformat": 4,
 "nbformat_minor": 2
}
