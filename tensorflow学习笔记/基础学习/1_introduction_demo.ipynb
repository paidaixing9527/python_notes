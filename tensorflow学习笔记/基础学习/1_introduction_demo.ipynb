{
 "cells": [
  {
   "cell_type": "markdown",
   "metadata": {},
   "source": [
    "## 1_introduction_demo"
   ]
  },
  {
   "cell_type": "code",
   "execution_count": 3,
   "metadata": {},
   "outputs": [],
   "source": [
    "import tensorflow as tf\n",
    "import numpy as np"
   ]
  },
  {
   "cell_type": "code",
   "execution_count": 4,
   "metadata": {},
   "outputs": [],
   "source": [
    "# 创建训练数据\n",
    "x_data = np.random.rand(100).astype(np.float32)\n",
    "y_data = x_data * 0.1 + 0.3"
   ]
  },
  {
   "cell_type": "code",
   "execution_count": 5,
   "metadata": {},
   "outputs": [],
   "source": [
    "# start 开始创建tensorflow结构 (y = Wx + b)\n",
    "Weights = tf.Variable(tf.random_uniform([1], -1.0, 1))\n",
    "\n",
    "biases = tf.Variable(tf.zeros([1]))\n",
    "\n",
    "# 预测的 y\n",
    "y = Weights * x_data + biases\n",
    "\n",
    "# 代价函数\n",
    "loss = tf.reduce_mean(tf.square(y - y_data))\n",
    "\n",
    "# 优化器(梯度下降法),学习率为0.5\n",
    "optimizer = tf.train.GradientDescentOptimizer(0.5)\n",
    "\n",
    "# 优化误差\n",
    "train = optimizer.minimize(loss)\n",
    "\n",
    "# 初始化变量\n",
    "init = tf.global_variables_initializer()\n",
    "\n",
    "# end"
   ]
  },
  {
   "cell_type": "code",
   "execution_count": 7,
   "metadata": {},
   "outputs": [
    {
     "name": "stdout",
     "output_type": "stream",
     "text": [
      "0 [0.261857] [0.300744]\n",
      "20 [0.13468032] [0.27997655]\n",
      "40 [0.10993427] [0.29426423]\n",
      "60 [0.10284571] [0.29835698]\n",
      "80 [0.10081518] [0.29952934]\n",
      "100 [0.10023351] [0.2998652]\n",
      "120 [0.10006688] [0.2999614]\n",
      "140 [0.10001915] [0.29998896]\n",
      "160 [0.10000548] [0.29999685]\n",
      "180 [0.1000016] [0.2999991]\n",
      "200 [0.10000048] [0.29999974]\n"
     ]
    }
   ],
   "source": [
    "# 定义会话\n",
    "with tf.Session() as sess:\n",
    "    # 初始化变量\n",
    "    sess.run(init)\n",
    "    for step in range(201):\n",
    "        sess.run(train)\n",
    "        if step % 20 == 0:\n",
    "            print(step, sess.run(Weights),sess.run(biases))"
   ]
  },
  {
   "cell_type": "code",
   "execution_count": null,
   "metadata": {},
   "outputs": [],
   "source": []
  }
 ],
 "metadata": {
  "kernelspec": {
   "display_name": "Python 3",
   "language": "python",
   "name": "python3"
  },
  "language_info": {
   "codemirror_mode": {
    "name": "ipython",
    "version": 3
   },
   "file_extension": ".py",
   "mimetype": "text/x-python",
   "name": "python",
   "nbconvert_exporter": "python",
   "pygments_lexer": "ipython3",
   "version": "3.6.12"
  }
 },
 "nbformat": 4,
 "nbformat_minor": 2
}
