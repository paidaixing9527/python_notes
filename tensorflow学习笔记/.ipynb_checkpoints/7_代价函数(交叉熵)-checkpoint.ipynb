{
 "cells": [
  {
   "cell_type": "code",
   "execution_count": 7,
   "metadata": {},
   "outputs": [],
   "source": [
    "import tensorflow as tf\n",
    "import numpy as np\n",
    "import matplotlib.pyplot as plt\n",
    "from tensorflow.examples.tutorials.mnist import input_data"
   ]
  },
  {
   "cell_type": "code",
   "execution_count": 8,
   "metadata": {},
   "outputs": [
    {
     "name": "stdout",
     "output_type": "stream",
     "text": [
      "Extracting ./MNIST_data/train-images-idx3-ubyte.gz\n",
      "Extracting ./MNIST_data/train-labels-idx1-ubyte.gz\n",
      "Extracting ./MNIST_data/t10k-images-idx3-ubyte.gz\n",
      "Extracting ./MNIST_data/t10k-labels-idx1-ubyte.gz\n"
     ]
    }
   ],
   "source": [
    "# 调用tensorflow封装好的接口加载MNIST数据集\n",
    "# one_hot：一个属性如果有N个可取值，它就可以扩充为N个属性，\n",
    "#          每个样本的这N个属性中，只能有一个为1，表示该样本的该属性属于这个类别，其余扩展属性都为0。\n",
    "mnist = input_data.read_data_sets(\"./MNIST_data/\",one_hot=True)\n",
    "\n",
    "# 每个批次的大小\n",
    "batch_size = 100\n",
    "# 计算一共有多少个批次\n",
    "n_batch = mnist.train.num_examples // batch_size"
   ]
  },
  {
   "cell_type": "code",
   "execution_count": 11,
   "metadata": {},
   "outputs": [
    {
     "name": "stdout",
     "output_type": "stream",
     "text": [
      "Iter0,Testing Accuracy: 0.824\n",
      "Iter1,Testing Accuracy: 0.8938\n",
      "Iter2,Testing Accuracy: 0.9021\n",
      "Iter3,Testing Accuracy: 0.9055\n",
      "Iter4,Testing Accuracy: 0.9094\n",
      "Iter5,Testing Accuracy: 0.9102\n",
      "Iter6,Testing Accuracy: 0.9116\n",
      "Iter7,Testing Accuracy: 0.9126\n",
      "Iter8,Testing Accuracy: 0.9147\n",
      "Iter9,Testing Accuracy: 0.9162\n",
      "Iter10,Testing Accuracy: 0.9176\n",
      "Iter11,Testing Accuracy: 0.9182\n",
      "Iter12,Testing Accuracy: 0.9188\n",
      "Iter13,Testing Accuracy: 0.919\n",
      "Iter14,Testing Accuracy: 0.9191\n",
      "Iter15,Testing Accuracy: 0.9207\n",
      "Iter16,Testing Accuracy: 0.9203\n",
      "Iter17,Testing Accuracy: 0.9213\n",
      "Iter18,Testing Accuracy: 0.9224\n",
      "Iter19,Testing Accuracy: 0.9217\n"
     ]
    }
   ],
   "source": [
    "# 定义两个placeholder\n",
    "inputs = tf.placeholder(tf.float32,[None,784])\n",
    "outputs = tf.placeholder(tf.float32,[None,10])\n",
    "\n",
    "# 创建一个简单的神经网络\n",
    "W = tf.Variable(tf.zeros([784,10]))\n",
    "b = tf.Variable(tf.zeros([10]))\n",
    "prediction = tf.nn.softmax(tf.matmul(inputs, W) + b)\n",
    "\n",
    "# 交叉熵代价函数\n",
    "loss = tf.reduce_mean(tf.nn.softmax_cross_entropy_with_logits(labels=outputs,logits=prediction))\n",
    "\n",
    "# 使用梯度下降法优化函数最小化代价函数\n",
    "optimizer = tf.train.GradientDescentOptimizer(0.2).minimize(loss)\n",
    "\n",
    "# 初始化变量\n",
    "init = tf.global_variables_initializer()\n",
    "\n",
    "# 比较tf.argmax(y,1),tf.arg_max(prediction,1)，相同则返回True,否则返回False，结果存放再boolean型列表中\n",
    "# tf.argmax(input,axis)根据axis取值的不同返回每行或者每列最大值的索引,axis=0比较每一列，axis标比较每一行\n",
    "correct_prediction = tf.equal(tf.argmax(outputs,1),tf.arg_max(prediction,1)) # argmax返回一维张量中最大值所在的位置\n",
    "\n",
    "# 求准确率\n",
    "accuracy = tf.reduce_mean(tf.cast(correct_prediction,tf.float32))  # cast：将布尔类型转换为float类型\n",
    "\n",
    "with tf.Session() as sess:\n",
    "    sess.run(init)\n",
    "    # 循环20个周期 \n",
    "    for epoch in range(20):\n",
    "        # 循环每个批次\n",
    "        for batch in range(n_batch):\n",
    "            batch_xs, batch_ys = mnist.train.next_batch(batch_size)\n",
    "            sess.run(optimizer,feed_dict={inputs:batch_xs,outputs:batch_ys})\n",
    "        \n",
    "        acc = sess.run(accuracy,feed_dict={inputs:mnist.test.images,outputs:mnist.test.labels})\n",
    "        print(\"Iter\" + str(epoch) + \",Testing Accuracy: \" + str(acc))\n",
    "        "
   ]
  },
  {
   "cell_type": "code",
   "execution_count": null,
   "metadata": {},
   "outputs": [],
   "source": []
  }
 ],
 "metadata": {
  "kernelspec": {
   "display_name": "Python 3",
   "language": "python",
   "name": "python3"
  },
  "language_info": {
   "codemirror_mode": {
    "name": "ipython",
    "version": 3
   },
   "file_extension": ".py",
   "mimetype": "text/x-python",
   "name": "python",
   "nbconvert_exporter": "python",
   "pygments_lexer": "ipython3",
   "version": "3.6.5"
  }
 },
 "nbformat": 4,
 "nbformat_minor": 2
}
